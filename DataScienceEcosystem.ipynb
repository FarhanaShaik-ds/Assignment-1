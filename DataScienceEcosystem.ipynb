{
 "cells": [
  {
   "cell_type": "markdown",
   "id": "528f76b7-bb0e-4965-acdc-66f106ff2f4d",
   "metadata": {},
   "source": [
    "## Data Science Tools and Ecosystem"
   ]
  },
  {
   "cell_type": "markdown",
   "id": "b71bd911-d4ac-47f3-b4d1-7efe03f66099",
   "metadata": {},
   "source": [
    "In this notebook, Data Science Tools and Ecosystem are summarized."
   ]
  },
  {
   "cell_type": "markdown",
   "id": "d068fd34-1203-4794-9a79-2a389dc2ed75",
   "metadata": {},
   "source": [
    "***Bold and Italic text using asterisks.***  \n",
    "- List popular languages for Data Science\n",
    "- List popular libraries for Data Science\n",
    "- List popular tools for Data Science"
   ]
  },
  {
   "cell_type": "markdown",
   "id": "c482aaa3-5997-412d-b652-9fc34db67bc3",
   "metadata": {},
   "source": [
    " ### Some of the popular languages that Data Scientists use are:\n",
    "    1. Python\n",
    "    2. R\n",
    "    3. Julia\n",
    "    4. Scala\n",
    "    5. Java\n",
    "    "
   ]
  },
  {
   "cell_type": "markdown",
   "id": "5e02a179-6fb6-4644-ae6a-1e27c0152970",
   "metadata": {},
   "source": [
    "### Some of the commonly used libraries used by Data Scientists include:\n",
    "\n",
    "    1. Numpy \n",
    "    2. Pandas \n",
    "    3. Scikit \n",
    "    4. Matplotlib \n",
    "    5. TensorFlow"
   ]
  },
  {
   "cell_type": "markdown",
   "id": "e9bd6381-ac85-48f7-9a26-0f4540bc6fff",
   "metadata": {},
   "source": [
    "## DataScienceTools\n",
    "\n",
    "| DataScienceTools | \n",
    "| -------------|\n",
    "| R Studio | \n",
    "| Anaconda | \n",
    "| Jupiter Notebook | "
   ]
  },
  {
   "cell_type": "markdown",
   "id": "e28fabda-0636-4e46-8a61-ff561bed9380",
   "metadata": {},
   "source": [
    "### Below are a few examples of evaluating arithmetic expressions in Python"
   ]
  },
  {
   "cell_type": "code",
   "execution_count": 1,
   "id": "264088fc-8185-4352-afca-f49a82266eab",
   "metadata": {
    "tags": []
   },
   "outputs": [
    {
     "data": {
      "text/plain": [
       "17"
      ]
     },
     "execution_count": 1,
     "metadata": {},
     "output_type": "execute_result"
    }
   ],
   "source": [
    "# This a simple arithmetic expression to mutiply then add integers\n",
    "(3*4)+5"
   ]
  },
  {
   "cell_type": "code",
   "execution_count": 2,
   "id": "15cd275f-f963-4e63-ae3f-76b80b180fc7",
   "metadata": {
    "tags": []
   },
   "outputs": [
    {
     "data": {
      "text/plain": [
       "3.3333333333333335"
      ]
     },
     "execution_count": 2,
     "metadata": {},
     "output_type": "execute_result"
    }
   ],
   "source": [
    "#This will convert 200 minutes to hours by diving by 60\n",
    "200/60"
   ]
  },
  {
   "cell_type": "markdown",
   "id": "bb1fd92b-6019-46ef-aba7-e909d70cbac5",
   "metadata": {},
   "source": [
    "## Author\n",
    "  Farhana Shaik"
   ]
  },
  {
   "cell_type": "code",
   "execution_count": null,
   "id": "0d05eabe-12be-43b8-8b5e-abd30a6ffbb3",
   "metadata": {},
   "outputs": [],
   "source": []
  }
 ],
 "metadata": {
  "kernelspec": {
   "display_name": "Python",
   "language": "python",
   "name": "conda-env-python-py"
  },
  "language_info": {
   "codemirror_mode": {
    "name": "ipython",
    "version": 3
   },
   "file_extension": ".py",
   "mimetype": "text/x-python",
   "name": "python",
   "nbconvert_exporter": "python",
   "pygments_lexer": "ipython3",
   "version": "3.7.12"
  }
 },
 "nbformat": 4,
 "nbformat_minor": 5
}
